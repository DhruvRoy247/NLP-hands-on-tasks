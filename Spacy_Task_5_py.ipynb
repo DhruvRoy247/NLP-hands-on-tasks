{
  "nbformat": 4,
  "nbformat_minor": 0,
  "metadata": {
    "colab": {
      "name": "Spacy Task 5.py",
      "provenance": [],
      "collapsed_sections": []
    },
    "kernelspec": {
      "name": "python3",
      "display_name": "Python 3"
    }
  },
  "cells": [
    {
      "cell_type": "code",
      "metadata": {
        "id": "sgo-jqDQcWJd"
      },
      "source": [
        "import spacy"
      ],
      "execution_count": 1,
      "outputs": []
    },
    {
      "cell_type": "code",
      "metadata": {
        "id": "ye8um_R4cXBD"
      },
      "source": [
        "model = spacy.load('en_core_web_sm')"
      ],
      "execution_count": 3,
      "outputs": []
    },
    {
      "cell_type": "code",
      "metadata": {
        "id": "9qycAPHPcXCe"
      },
      "source": [
        "text1 = \"\"\"FAANG is an acronym referring to the stocks of the five most popular and best-performing American technology companies: Facebook, Amazon, Apple, Netflix and Alphabet (formerly known as Google)\"\"\""
      ],
      "execution_count": 5,
      "outputs": []
    },
    {
      "cell_type": "code",
      "metadata": {
        "id": "lfNuWLWNcXF0"
      },
      "source": [
        "doc1 = model(text1)"
      ],
      "execution_count": 7,
      "outputs": []
    },
    {
      "cell_type": "code",
      "metadata": {
        "id": "6xWGpv89cXHV",
        "outputId": "32854575-0f72-43ae-d29b-dd5a34e791bb",
        "colab": {
          "base_uri": "https://localhost:8080/"
        }
      },
      "source": [
        "for ent in doc1.ents:\n",
        "  print(ent.text, ent.label_)"
      ],
      "execution_count": 8,
      "outputs": [
        {
          "output_type": "stream",
          "text": [
            "FAANG ORG\n",
            "five CARDINAL\n",
            "American NORP\n",
            "Amazon ORG\n",
            "Apple ORG\n",
            "Netflix GPE\n",
            "Alphabet PERSON\n",
            "Google ORG\n"
          ],
          "name": "stdout"
        }
      ]
    },
    {
      "cell_type": "code",
      "metadata": {
        "id": "BN-hO_vVcXKn",
        "outputId": "bf3de696-e03f-42ae-cf6d-97e4eb825467",
        "colab": {
          "base_uri": "https://localhost:8080/"
        }
      },
      "source": [
        "text2 = \"\"\"And Eurypylus, son of Euaemon, killed Hypsenor, the son of noble Dolopion, who had been made priest of the river Scamander, and was honoured among the people as though he were a god. Eurypylus gave him chase as he was flying before him, smote him with his sword upon the arm, and lopped his strong hand from off it. The bloody hand fell to the ground, and the shades of death, with fate that no man can withstand, came over his eyes. Thus furiously did the battle rage between them. As for the son of Tydeus, you could not say whether he was more among the Achaeans or the Trojans. He rushed across the plain like a winter torrent that has burst its barrier in full flood; no dykes, no walls of fruitful vineyards can embank it when it is swollen with rain from heaven, but in a moment it comes tearing onward, and lays many a field waste that many a strong man hand has reclaimed- even so were the dense phalanxes of the Trojans driven in rout by the son of Tydeus, and many though they were, they dared not abide his onslaught.\"\"\"\n",
        "\n",
        "doc2 = model(text2)\n",
        "\n",
        "for ent in doc2.ents:\n",
        "  print(ent.text, ent.label_)"
      ],
      "execution_count": 9,
      "outputs": [
        {
          "output_type": "stream",
          "text": [
            "Hypsenor PERSON\n",
            "Dolopion FAC\n",
            "Scamander PRODUCT\n",
            "Tydeus PERSON\n",
            "Achaeans NORP\n",
            "Trojans NORP\n",
            "winter DATE\n",
            "Trojans NORP\n",
            "Tydeus PERSON\n"
          ],
          "name": "stdout"
        }
      ]
    },
    {
      "cell_type": "code",
      "metadata": {
        "id": "7eBJ_xd3cXMH"
      },
      "source": [
        "\n",
        "text3 = \"\"\"In California, Jeff Lee is a first-year business-school student at Stanford with a Yale law degree. On the other side of the world, he’s teaching beautiful women how to win the most prestigious pageant title in the cosmos.\"\"\""
      ],
      "execution_count": 10,
      "outputs": []
    },
    {
      "cell_type": "code",
      "metadata": {
        "id": "SFtVFeLJc-aK",
        "outputId": "0f079827-71f2-459b-b051-577b8a2a1c47",
        "colab": {
          "base_uri": "https://localhost:8080/"
        }
      },
      "source": [
        "doc3 = model(text3)\n",
        "\n",
        "for ent in doc3.ents:\n",
        "  print(ent.text, ent.label_)"
      ],
      "execution_count": 11,
      "outputs": [
        {
          "output_type": "stream",
          "text": [
            "California GPE\n",
            "Jeff Lee PERSON\n",
            "first-year DATE\n",
            "Stanford ORG\n",
            "Yale ORG\n"
          ],
          "name": "stdout"
        }
      ]
    },
    {
      "cell_type": "code",
      "metadata": {
        "id": "qNOKv742c-ln",
        "outputId": "a9b6b6b0-d52a-41e3-afe3-9f5d18a38c63",
        "colab": {
          "base_uri": "https://localhost:8080/"
        }
      },
      "source": [
        "text4 = \"\"\"Drake, a former senior executive at the National Security Agency, faces some of the gravest charges that can be brought against an American citizen.\"\"\"\n",
        "\n",
        "doc4 = model(text4)\n",
        "\n",
        "for ent in doc4.ents:\n",
        "  print(ent.text, ent.label_)"
      ],
      "execution_count": 13,
      "outputs": [
        {
          "output_type": "stream",
          "text": [
            "the National Security Agency ORG\n",
            "American NORP\n"
          ],
          "name": "stdout"
        }
      ]
    },
    {
      "cell_type": "code",
      "metadata": {
        "id": "LpcYdIAOcXPu",
        "outputId": "d5d87d61-51bc-4aba-90b8-4f049381f2dd",
        "colab": {
          "base_uri": "https://localhost:8080/"
        }
      },
      "source": [
        "text5 = \"\"\"Khabib Nurmagomedov retired in his last match against Gaethje. He lost the biggest inpiration of his life his father a few days before this match. His mother asked him not to fight anymore without his father on his side. He promised her that it would be his last match and will be dedicated to his father. He went into the octagon with a broken toe, but still won.\"\"\"\n",
        "\n",
        "doc5 = model(text5)\n",
        "\n",
        "for ent in doc5.ents:\n",
        "  print(ent.text, ent.label_)"
      ],
      "execution_count": 14,
      "outputs": [
        {
          "output_type": "stream",
          "text": [
            "Khabib Nurmagomedov PERSON\n",
            "Gaethje PERSON\n",
            "a few days DATE\n",
            "octagon GPE\n"
          ],
          "name": "stdout"
        }
      ]
    }
  ]
}